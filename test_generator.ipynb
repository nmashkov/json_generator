{
 "cells": [
  {
   "cell_type": "code",
   "execution_count": 1,
   "metadata": {},
   "outputs": [],
   "source": [
    "import os\n",
    "import pathlib\n",
    "import json\n",
    "\n",
    "import pandas as pd"
   ]
  },
  {
   "cell_type": "code",
   "execution_count": 2,
   "metadata": {},
   "outputs": [
    {
     "name": "stdout",
     "output_type": "stream",
     "text": [
      "mapping: S2T Arkhivatsiia IS SAS EG УБП v IS BAS v1.xlsx\n"
     ]
    }
   ],
   "source": [
    "ru_or_eng = 1\n",
    "\n",
    "BASE_DIR = str(pathlib.Path().resolve())\n",
    "TARGET_DIR = ''\n",
    "WORKING_DIR = f'{BASE_DIR}/{TARGET_DIR}'\n",
    "\n",
    "dir_list = os.listdir(WORKING_DIR)\n",
    "\n",
    "mapping = ''\n",
    "\n",
    "for file in dir_list:\n",
    "    if file.endswith(\".xlsx\"):\n",
    "        mapping = file\n",
    "\n",
    "#\n",
    "# print(f'BASE_DIR: {BASE_DIR}')\n",
    "# print(f'TARGET_DIR: {TARGET_DIR}')\n",
    "# print(f'WORKING_DIR: {WORKING_DIR}')\n",
    "# print(f'dir_list: {dir_list}')\n",
    "print(f'mapping: {mapping}')"
   ]
  },
  {
   "cell_type": "code",
   "execution_count": 3,
   "metadata": {},
   "outputs": [
    {
     "data": {
      "text/html": [
       "<div>\n",
       "<style scoped>\n",
       "    .dataframe tbody tr th:only-of-type {\n",
       "        vertical-align: middle;\n",
       "    }\n",
       "\n",
       "    .dataframe tbody tr th {\n",
       "        vertical-align: top;\n",
       "    }\n",
       "\n",
       "    .dataframe thead th {\n",
       "        text-align: right;\n",
       "    }\n",
       "</style>\n",
       "<table border=\"1\" class=\"dataframe\">\n",
       "  <thead>\n",
       "    <tr style=\"text-align: right;\">\n",
       "      <th></th>\n",
       "      <th>SchemaS</th>\n",
       "      <th>SchemaT</th>\n",
       "      <th>Table</th>\n",
       "      <th>Code</th>\n",
       "      <th>Data Type</th>\n",
       "      <th>Length</th>\n",
       "    </tr>\n",
       "  </thead>\n",
       "  <tbody>\n",
       "    <tr>\n",
       "      <th>1</th>\n",
       "      <td>dbo</td>\n",
       "      <td>prod_arch_saeg</td>\n",
       "      <td>accMark_1kv17</td>\n",
       "      <td>sgn</td>\n",
       "      <td>smallint</td>\n",
       "      <td>5</td>\n",
       "    </tr>\n",
       "    <tr>\n",
       "      <th>2</th>\n",
       "      <td>dbo</td>\n",
       "      <td>prod_arch_saeg</td>\n",
       "      <td>accMark_1kv17</td>\n",
       "      <td>cSLX</td>\n",
       "      <td>string</td>\n",
       "      <td>12</td>\n",
       "    </tr>\n",
       "    <tr>\n",
       "      <th>3</th>\n",
       "      <td>dbo</td>\n",
       "      <td>prod_arch_saeg</td>\n",
       "      <td>accMark_1kv17</td>\n",
       "      <td>cABS</td>\n",
       "      <td>string</td>\n",
       "      <td>50</td>\n",
       "    </tr>\n",
       "    <tr>\n",
       "      <th>4</th>\n",
       "      <td>dbo</td>\n",
       "      <td>prod_arch_saeg</td>\n",
       "      <td>accMark_1kv17</td>\n",
       "      <td>cID</td>\n",
       "      <td>int</td>\n",
       "      <td>10</td>\n",
       "    </tr>\n",
       "    <tr>\n",
       "      <th>5</th>\n",
       "      <td>dbo</td>\n",
       "      <td>prod_arch_saeg</td>\n",
       "      <td>accMark_1kv17</td>\n",
       "      <td>cur2</td>\n",
       "      <td>string</td>\n",
       "      <td>3</td>\n",
       "    </tr>\n",
       "  </tbody>\n",
       "</table>\n",
       "</div>"
      ],
      "text/plain": [
       "  SchemaS         SchemaT          Table  Code Data Type Length\n",
       "1     dbo  prod_arch_saeg  accMark_1kv17   sgn  smallint      5\n",
       "2     dbo  prod_arch_saeg  accMark_1kv17  cSLX    string     12\n",
       "3     dbo  prod_arch_saeg  accMark_1kv17  cABS    string     50\n",
       "4     dbo  prod_arch_saeg  accMark_1kv17   cID       int     10\n",
       "5     dbo  prod_arch_saeg  accMark_1kv17  cur2    string      3"
      ]
     },
     "execution_count": 3,
     "metadata": {},
     "output_type": "execute_result"
    }
   ],
   "source": [
    "df = pd.read_excel(f'{WORKING_DIR}/{mapping}', sheet_name='Mapping',\n",
    "                   usecols=\"D,T:V,Z,AA\")\n",
    "\n",
    "df = df.drop(0,axis=0)\n",
    "\n",
    "df.columns = ['SchemaS', 'SchemaT', 'Table', 'Code', 'Data Type', 'Length']\n",
    "\n",
    "df = df[df['Code']!='hdp_processed_dttm']\n",
    "\n",
    "df = df.sort_values(['Table'])\n",
    "\n",
    "df.index = range(1, len(df) + 1)\n",
    "\n",
    "df.head()"
   ]
  },
  {
   "cell_type": "code",
   "execution_count": 10,
   "metadata": {},
   "outputs": [
    {
     "name": "stdout",
     "output_type": "stream",
     "text": [
      "134\n",
      "['accMark_1kv17' 'accMark_1kv18' 'accMark_1kv19' 'accMark_1kv20'\n",
      " 'accMark_1kv21' 'accMark_2kv17' 'accMark_2kv18' 'accMark_2kv19'\n",
      " 'accMark_2kv20' 'accMark_2kv21' 'accMark_3kv17' 'accMark_3kv18'\n",
      " 'accMark_3kv19' 'accMark_3kv20' 'accMark_3kv21' 'accMark_4kv17'\n",
      " 'accMark_4kv18' 'accMark_4kv19' 'accMark_4kv20' 'accMark_4kv21'\n",
      " 'acc_1kv17' 'acc_1kv18' 'acc_1kv19' 'acc_1kv20' 'acc_1kv21' 'acc_2kv17'\n",
      " 'acc_2kv18' 'acc_2kv19' 'acc_2kv20' 'acc_2kv21' 'acc_3kv17' 'acc_3kv18'\n",
      " 'acc_3kv19' 'acc_3kv20' 'acc_3kv21' 'acc_4kv17' 'acc_4kv18' 'acc_4kv19'\n",
      " 'acc_4kv20' 'acc_4kv21' 'bs_1kv17' 'bs_1kv18' 'bs_1kv19' 'bs_1kv20'\n",
      " 'bs_1kv21' 'bs_2kv17' 'bs_2kv18' 'bs_2kv19' 'bs_2kv20' 'bs_2kv21'\n",
      " 'bs_3kv17' 'bs_3kv18' 'bs_3kv19' 'bs_3kv20' 'bs_3kv21' 'bs_4kv17'\n",
      " 'bs_4kv18' 'bs_4kv19' 'bs_4kv20' 'bs_4kv21' 'bsplAgr_1kv17'\n",
      " 'bsplAgr_1kv18' 'bsplAgr_1kv19' 'bsplAgr_1kv20' 'bsplAgr_1kv21'\n",
      " 'bsplAgr_2kv18' 'bsplAgr_2kv19' 'bsplAgr_2kv20' 'bsplAgr_2kv21'\n",
      " 'bsplAgr_3kv17' 'bsplAgr_3kv18' 'bsplAgr_3kv19' 'bsplAgr_3kv20'\n",
      " 'bsplAgr_3kv21' 'bsplAgr_4kv18' 'bsplAgr_4kv19' 'bsplAgr_4kv20'\n",
      " 'bsplAgr_4kv21' 'entryMark_1kv19' 'entryMark_1kv20' 'entryMark_1kv21'\n",
      " 'entryMark_2kv17' 'entryMark_2kv18' 'entryMark_2kv19' 'entryMark_2kv20'\n",
      " 'entryMark_2kv21' 'entryMark_3kv17' 'entryMark_3kv18' 'entryMark_3kv19'\n",
      " 'entryMark_3kv20' 'entryMark_3kv21' 'entryMark_4kv17' 'entryMark_4kv18'\n",
      " 'entryMark_4kv19' 'entryMark_4kv20' 'entryMark_4kv21' 'entry_1kv19'\n",
      " 'entry_1kv20' 'entry_1kv21' 'entry_2kv17' 'entry_2kv18' 'entry_2kv19'\n",
      " 'entry_2kv20' 'entry_2kv21' 'entry_3kv17' 'entry_3kv18' 'entry_3kv19'\n",
      " 'entry_3kv20' 'entry_3kv21' 'entry_4kv17' 'entry_4kv18' 'entry_4kv19'\n",
      " 'entry_4kv20' 'entry_4kv21' 'pl_1kv17' 'pl_1kv18' 'pl_1kv19' 'pl_1kv20'\n",
      " 'pl_1kv21' 'pl_2kv17' 'pl_2kv18' 'pl_2kv19' 'pl_2kv20' 'pl_2kv21'\n",
      " 'pl_3kv17' 'pl_3kv18' 'pl_3kv19' 'pl_3kv20' 'pl_3kv21' 'pl_4kv17'\n",
      " 'pl_4kv18' 'pl_4kv19' 'pl_4kv20' 'pl_4kv21']\n"
     ]
    }
   ],
   "source": [
    "tables_lst = df['Table'].unique()\n",
    "print(\n",
    "    len(tables_lst)\n",
    ")\n",
    "print(tables_lst)"
   ]
  },
  {
   "cell_type": "code",
   "execution_count": 5,
   "metadata": {},
   "outputs": [
    {
     "data": {
      "text/html": [
       "<div>\n",
       "<style scoped>\n",
       "    .dataframe tbody tr th:only-of-type {\n",
       "        vertical-align: middle;\n",
       "    }\n",
       "\n",
       "    .dataframe tbody tr th {\n",
       "        vertical-align: top;\n",
       "    }\n",
       "\n",
       "    .dataframe thead th {\n",
       "        text-align: right;\n",
       "    }\n",
       "</style>\n",
       "<table border=\"1\" class=\"dataframe\">\n",
       "  <thead>\n",
       "    <tr style=\"text-align: right;\">\n",
       "      <th></th>\n",
       "      <th>SchemaS</th>\n",
       "      <th>SchemaT</th>\n",
       "      <th>Table</th>\n",
       "      <th>Code</th>\n",
       "      <th>Data Type</th>\n",
       "      <th>Length</th>\n",
       "    </tr>\n",
       "  </thead>\n",
       "  <tbody>\n",
       "    <tr>\n",
       "      <th>1</th>\n",
       "      <td>dbo</td>\n",
       "      <td>prod_arch_saeg</td>\n",
       "      <td>accMark_1kv17</td>\n",
       "      <td>sgn</td>\n",
       "      <td>smallint</td>\n",
       "      <td>5</td>\n",
       "    </tr>\n",
       "    <tr>\n",
       "      <th>2</th>\n",
       "      <td>dbo</td>\n",
       "      <td>prod_arch_saeg</td>\n",
       "      <td>accMark_1kv17</td>\n",
       "      <td>cSLX</td>\n",
       "      <td>string</td>\n",
       "      <td>12</td>\n",
       "    </tr>\n",
       "    <tr>\n",
       "      <th>3</th>\n",
       "      <td>dbo</td>\n",
       "      <td>prod_arch_saeg</td>\n",
       "      <td>accMark_1kv17</td>\n",
       "      <td>cABS</td>\n",
       "      <td>string</td>\n",
       "      <td>50</td>\n",
       "    </tr>\n",
       "    <tr>\n",
       "      <th>4</th>\n",
       "      <td>dbo</td>\n",
       "      <td>prod_arch_saeg</td>\n",
       "      <td>accMark_1kv17</td>\n",
       "      <td>cID</td>\n",
       "      <td>int</td>\n",
       "      <td>10</td>\n",
       "    </tr>\n",
       "    <tr>\n",
       "      <th>5</th>\n",
       "      <td>dbo</td>\n",
       "      <td>prod_arch_saeg</td>\n",
       "      <td>accMark_1kv17</td>\n",
       "      <td>cur2</td>\n",
       "      <td>string</td>\n",
       "      <td>3</td>\n",
       "    </tr>\n",
       "  </tbody>\n",
       "</table>\n",
       "</div>"
      ],
      "text/plain": [
       "  SchemaS         SchemaT          Table  Code Data Type Length\n",
       "1     dbo  prod_arch_saeg  accMark_1kv17   sgn  smallint      5\n",
       "2     dbo  prod_arch_saeg  accMark_1kv17  cSLX    string     12\n",
       "3     dbo  prod_arch_saeg  accMark_1kv17  cABS    string     50\n",
       "4     dbo  prod_arch_saeg  accMark_1kv17   cID       int     10\n",
       "5     dbo  prod_arch_saeg  accMark_1kv17  cur2    string      3"
      ]
     },
     "execution_count": 5,
     "metadata": {},
     "output_type": "execute_result"
    }
   ],
   "source": [
    "test_df = df[df['Table']=='accMark_1kv17'].copy()\n",
    "test_df.head()"
   ]
  },
  {
   "cell_type": "code",
   "execution_count": 6,
   "metadata": {},
   "outputs": [
    {
     "name": "stdout",
     "output_type": "stream",
     "text": [
      "dbo\n",
      "prod_arch_saeg\n",
      "accMark_1kv17\n",
      "['sgn', 'cSLX', 'cABS', 'cID', 'cur2', 'cur', 'do', 'gfi', 'gf', 'f6', 'f4', 'mod', 'bNum', 'bType', 'm', 'kv', 'cType', 'y', 'id', 'dep', 'nPL', 'hs', 'termGr', 'log', 'gr1', 'rowRule', 'mirGroup', 'mirCode', 'ctg', 'inc', 'urpzNew', 'urpz', 'branch', 'group', 'depM', 'stat']\n",
      "[{'name': 'sgn', 'colType': 'smallint'}, {'name': 'cSLX', 'colType': 'string'}, {'name': 'cABS', 'colType': 'string'}, {'name': 'cID', 'colType': 'int'}, {'name': 'cur2', 'colType': 'string'}, {'name': 'cur', 'colType': 'string'}, {'name': 'do', 'colType': 'smallint'}, {'name': 'gfi', 'colType': 'smallint'}, {'name': 'gf', 'colType': 'smallint'}, {'name': 'f6', 'colType': 'string'}, {'name': 'f4', 'colType': 'string'}, {'name': 'mod', 'colType': 'smallint'}, {'name': 'bNum', 'colType': 'smallint'}, {'name': 'bType', 'colType': 'smallint'}, {'name': 'm', 'colType': 'smallint'}, {'name': 'kv', 'colType': 'smallint'}, {'name': 'cType', 'colType': 'string'}, {'name': 'y', 'colType': 'smallint'}, {'name': 'id', 'colType': 'int'}, {'name': 'dep', 'colType': 'string'}, {'name': 'nPL', 'colType': 'smallint'}, {'name': 'hs', 'colType': 'int'}, {'name': 'termGr', 'colType': 'string'}, {'name': 'log', 'colType': 'string'}, {'name': 'gr1', 'colType': 'int'}, {'name': 'rowRule', 'colType': 'int'}, {'name': 'mirGroup', 'colType': 'string'}, {'name': 'mirCode', 'colType': 'string'}, {'name': 'ctg', 'colType': 'smallint'}, {'name': 'inc', 'colType': 'smallint'}, {'name': 'urpzNew', 'colType': 'timestamp'}, {'name': 'urpz', 'colType': 'smallint'}, {'name': 'branch', 'colType': 'smallint'}, {'name': 'group', 'colType': 'string'}, {'name': 'depM', 'colType': 'string'}, {'name': 'stat', 'colType': 'string'}]\n"
     ]
    }
   ],
   "source": [
    "test_row = test_df.iloc[0]\n",
    "schema_s = test_row['SchemaS']\n",
    "print(schema_s)\n",
    "schema_t = test_row['SchemaT']\n",
    "print(schema_t)\n",
    "table = test_row['Table']\n",
    "print(table)\n",
    "columns = []\n",
    "columns_casts = []\n",
    "\n",
    "for _, row in test_df.iterrows():\n",
    "    columns.append(row['Code'])\n",
    "    columns_casts.append(\n",
    "        {\n",
    "            \"name\": row['Code'],\n",
    "            \"colType\": row['Data Type']\n",
    "        }\n",
    "    )\n",
    "\n",
    "print(columns)\n",
    "print(columns_casts)"
   ]
  },
  {
   "cell_type": "code",
   "execution_count": 7,
   "metadata": {},
   "outputs": [
    {
     "data": {
      "text/plain": [
       "'{\"connection\": {\"connType\": \"jdbc\", \"url\": \"...\", \"driver\": \"...\", \"user\": \"...\", \"password\": \"...\"}, \"commonInfo\": {\"targetSchema\": \"prod_arch_saeg\", \"etlSchema\": \"prod_arch_saeg\", \"logsTable\": \"logs597\"}, \"flows\": [{\"loadType\": \"Scd1Replace\", \"source\": {\"schema\": \"dbo\", \"table\": \"accMark_1kv17\", \"columns\": [\"sgn\", \"cSLX\", \"cABS\", \"cID\", \"cur2\", \"cur\", \"do\", \"gfi\", \"gf\", \"f6\", \"f4\", \"mod\", \"bNum\", \"bType\", \"m\", \"kv\", \"cType\", \"y\", \"id\", \"dep\", \"nPL\", \"hs\", \"termGr\", \"log\", \"gr1\", \"rowRule\", \"mirGroup\", \"mirCode\", \"ctg\", \"inc\", \"urpzNew\", \"urpz\", \"branch\", \"group\", \"depM\", \"stat\"], \"columnCasts\": [{\"name\": \"sgn\", \"colType\": \"smallint\"}, {\"name\": \"cSLX\", \"colType\": \"string\"}, {\"name\": \"cABS\", \"colType\": \"string\"}, {\"name\": \"cID\", \"colType\": \"int\"}, {\"name\": \"cur2\", \"colType\": \"string\"}, {\"name\": \"cur\", \"colType\": \"string\"}, {\"name\": \"do\", \"colType\": \"smallint\"}, {\"name\": \"gfi\", \"colType\": \"smallint\"}, {\"name\": \"gf\", \"colType\": \"smallint\"}, {\"name\": \"f6\", \"colType\": \"string\"}, {\"name\": \"f4\", \"colType\": \"string\"}, {\"name\": \"mod\", \"colType\": \"smallint\"}, {\"name\": \"bNum\", \"colType\": \"smallint\"}, {\"name\": \"bType\", \"colType\": \"smallint\"}, {\"name\": \"m\", \"colType\": \"smallint\"}, {\"name\": \"kv\", \"colType\": \"smallint\"}, {\"name\": \"cType\", \"colType\": \"string\"}, {\"name\": \"y\", \"colType\": \"smallint\"}, {\"name\": \"id\", \"colType\": \"int\"}, {\"name\": \"dep\", \"colType\": \"string\"}, {\"name\": \"nPL\", \"colType\": \"smallint\"}, {\"name\": \"hs\", \"colType\": \"int\"}, {\"name\": \"termGr\", \"colType\": \"string\"}, {\"name\": \"log\", \"colType\": \"string\"}, {\"name\": \"gr1\", \"colType\": \"int\"}, {\"name\": \"rowRule\", \"colType\": \"int\"}, {\"name\": \"mirGroup\", \"colType\": \"string\"}, {\"name\": \"mirCode\", \"colType\": \"string\"}, {\"name\": \"ctg\", \"colType\": \"smallint\"}, {\"name\": \"inc\", \"colType\": \"smallint\"}, {\"name\": \"urpzNew\", \"colType\": \"timestamp\"}, {\"name\": \"urpz\", \"colType\": \"smallint\"}, {\"name\": \"branch\", \"colType\": \"smallint\"}, {\"name\": \"group\", \"colType\": \"string\"}, {\"name\": \"depM\", \"colType\": \"string\"}, {\"name\": \"stat\", \"colType\": \"string\"}], \"jdbcDialect\": \"...\"}, \"target\": {\"table\": \"accMark_1kv17\"}}]}'"
      ]
     },
     "execution_count": 7,
     "metadata": {},
     "output_type": "execute_result"
    }
   ],
   "source": [
    "test_flow_entity_lst = []\n",
    "\n",
    "template1 = {\n",
    "    \"loadType\": \"Scd1Replace\",\n",
    "    \"source\": {\n",
    "        \"schema\": schema_s,\n",
    "        \"table\": table,\n",
    "        \"columns\": columns,\n",
    "        \"columnCasts\": columns_casts,\n",
    "        \"jdbcDialect\": \"...\"\n",
    "    },\n",
    "    \"target\": {\n",
    "        \"table\": table\n",
    "    }\n",
    "}\n",
    "\n",
    "test_flow_entity_lst.append(template1)\n",
    "\n",
    "main_json_template = {\n",
    "  \"connection\": {\n",
    "    \"connType\": \"jdbc\",\n",
    "    \"url\": \"...\",\n",
    "    \"driver\": \"...\",\n",
    "    \"user\": \"...\",\n",
    "    \"password\": \"...\"\n",
    "  },\n",
    "  \"commonInfo\": {\n",
    "    \"targetSchema\": schema_t,\n",
    "    \"etlSchema\": schema_t,\n",
    "    \"logsTable\": \"logs597\"\n",
    "  },\n",
    "  \"flows\": test_flow_entity_lst\n",
    "}\n",
    "\n",
    "json.dumps(main_json_template)"
   ]
  },
  {
   "cell_type": "code",
   "execution_count": 8,
   "metadata": {},
   "outputs": [
    {
     "data": {
      "text/plain": [
       "'{\"loadType\": \"Scd1Replace\", \"source\": {\"schema\": \"dbo\", \"table\": \"accMark_1kv17\", \"columns\": [\"sgn\", \"cSLX\", \"cABS\", \"cID\", \"cur2\", \"cur\", \"do\", \"gfi\", \"gf\", \"f6\", \"f4\", \"mod\", \"bNum\", \"bType\", \"m\", \"kv\", \"cType\", \"y\", \"id\", \"dep\", \"nPL\", \"hs\", \"termGr\", \"log\", \"gr1\", \"rowRule\", \"mirGroup\", \"mirCode\", \"ctg\", \"inc\", \"urpzNew\", \"urpz\", \"branch\", \"group\", \"depM\", \"stat\"], \"columnCasts\": [{\"name\": \"sgn\", \"colType\": \"smallint\"}, {\"name\": \"cSLX\", \"colType\": \"string\"}, {\"name\": \"cABS\", \"colType\": \"string\"}, {\"name\": \"cID\", \"colType\": \"int\"}, {\"name\": \"cur2\", \"colType\": \"string\"}, {\"name\": \"cur\", \"colType\": \"string\"}, {\"name\": \"do\", \"colType\": \"smallint\"}, {\"name\": \"gfi\", \"colType\": \"smallint\"}, {\"name\": \"gf\", \"colType\": \"smallint\"}, {\"name\": \"f6\", \"colType\": \"string\"}, {\"name\": \"f4\", \"colType\": \"string\"}, {\"name\": \"mod\", \"colType\": \"smallint\"}, {\"name\": \"bNum\", \"colType\": \"smallint\"}, {\"name\": \"bType\", \"colType\": \"smallint\"}, {\"name\": \"m\", \"colType\": \"smallint\"}, {\"name\": \"kv\", \"colType\": \"smallint\"}, {\"name\": \"cType\", \"colType\": \"string\"}, {\"name\": \"y\", \"colType\": \"smallint\"}, {\"name\": \"id\", \"colType\": \"int\"}, {\"name\": \"dep\", \"colType\": \"string\"}, {\"name\": \"nPL\", \"colType\": \"smallint\"}, {\"name\": \"hs\", \"colType\": \"int\"}, {\"name\": \"termGr\", \"colType\": \"string\"}, {\"name\": \"log\", \"colType\": \"string\"}, {\"name\": \"gr1\", \"colType\": \"int\"}, {\"name\": \"rowRule\", \"colType\": \"int\"}, {\"name\": \"mirGroup\", \"colType\": \"string\"}, {\"name\": \"mirCode\", \"colType\": \"string\"}, {\"name\": \"ctg\", \"colType\": \"smallint\"}, {\"name\": \"inc\", \"colType\": \"smallint\"}, {\"name\": \"urpzNew\", \"colType\": \"timestamp\"}, {\"name\": \"urpz\", \"colType\": \"smallint\"}, {\"name\": \"branch\", \"colType\": \"smallint\"}, {\"name\": \"group\", \"colType\": \"string\"}, {\"name\": \"depM\", \"colType\": \"string\"}, {\"name\": \"stat\", \"colType\": \"string\"}], \"jdbcDialect\": \"...\"}, \"target\": {\"table\": \"accMark_1kv17\"}}'"
      ]
     },
     "execution_count": 8,
     "metadata": {},
     "output_type": "execute_result"
    }
   ],
   "source": [
    "def print_flow_entity(schema_s, table, columns, columns_casts):\n",
    "\ttemplate = {\n",
    "\t\t\"loadType\": \"Scd1Replace\",\n",
    "\t\t\"source\": {\n",
    "\t\t\t\"schema\": schema_s,\n",
    "\t\t\t\"table\": table,\n",
    "\t\t\t\"columns\": columns,\n",
    "\t\t\t\"columnCasts\": columns_casts,\n",
    "\t\t\t\"jdbcDialect\": \"...\"\n",
    "\t\t},\n",
    "\t\t\"target\": {\n",
    "\t\t\t\"table\": table\n",
    "\t\t}\n",
    "\t}\n",
    "\n",
    "\treturn json.dumps(template)\n",
    "\n",
    "json_str = print_flow_entity(schema_s, table, columns, columns_casts)\n",
    "\n",
    "json_str"
   ]
  }
 ],
 "metadata": {
  "kernelspec": {
   "display_name": "venv",
   "language": "python",
   "name": "python3"
  },
  "language_info": {
   "codemirror_mode": {
    "name": "ipython",
    "version": 3
   },
   "file_extension": ".py",
   "mimetype": "text/x-python",
   "name": "python",
   "nbconvert_exporter": "python",
   "pygments_lexer": "ipython3",
   "version": "3.10.11"
  }
 },
 "nbformat": 4,
 "nbformat_minor": 2
}
